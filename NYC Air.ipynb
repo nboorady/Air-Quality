{
 "cells": [
  {
   "cell_type": "code",
   "execution_count": 49,
   "metadata": {},
   "outputs": [
    {
     "ename": "SyntaxError",
     "evalue": "EOL while scanning string literal (<ipython-input-49-371799e2578d>, line 54)",
     "output_type": "error",
     "traceback": [
      "\u001b[0;36m  File \u001b[0;32m\"<ipython-input-49-371799e2578d>\"\u001b[0;36m, line \u001b[0;32m54\u001b[0m\n\u001b[0;31m    \"\"\"\"\u001b[0m\n\u001b[0m        \n^\u001b[0m\n\u001b[0;31mSyntaxError\u001b[0m\u001b[0;31m:\u001b[0m EOL while scanning string literal\n"
     ]
    }
   ],
   "source": [
    "#install certain libraries before importing (only run it once)\n",
    "#!pip install folium\n",
    "#!pip install geopandas\n",
    "\n",
    "\n",
    "import pandas as pd \n",
    "import folium\n",
    "from folium.plugins import HeatMap\n",
    "import geopandas\n",
    "\n",
    "\n",
    "#getting the data - sorting through the UHF42 values\n",
    "data_original = pd.read_csv('Air_Quality.csv')\n",
    "\n",
    "\n",
    "\n",
    "#\n",
    "#  on the map\n",
    "\n",
    "\n",
    "\"\"\"\"\n",
    "Steps: \n",
    "1) loop through the file and select columns/data i want to work with (one map per chemical?)\n",
    "\n",
    "2) for each row in the file, if geo_entity_id = specified UHF, plot X points in that area. \n",
    "X is based on the data_valuemessage column. So if the concenctration is 3, it plots 3 points.\n",
    "\n",
    "\n",
    "    for (int i = 0; i < data.length; i ++)\n",
    "    {\n",
    "       \n",
    "        if (\"geo_entity_id\" == 101)\n",
    "        {\n",
    "             int number_of_dots = \"data_valuemessage\"   \n",
    "             \n",
    "             for (int x = 0; X < number_of_dots; x++)\n",
    "             {\n",
    "                 heat_data = [[specified lat, specified long]]\n",
    "                 HeatMap(heat_data).add_to(my_map)\n",
    "                 \n",
    "             }        \n",
    "        }\n",
    "        else if (\"geo_entity_id\" == 102)\n",
    "        {\n",
    "            ..... same thing\n",
    "        \n",
    "        \n",
    "        }\n",
    "        \n",
    "    \n",
    "    }\n",
    "\n",
    "\n",
    "\"\"\"\"\n",
    "\n",
    "\n",
    "\n",
    "#test it on a point \n",
    "heat_data = [[40.7831, -73.9705]]\n",
    "\n",
    "\n",
    "#creating the NYC map\n",
    "my_map = folium.Map([40.7831, -73.9705], zoom_start=15)\n",
    "\n",
    "#displaying the test point\n",
    "HeatMap(heat_data).add_to(my_map)\n",
    "my_map\n",
    "\n",
    "\n",
    "\n",
    "#QUESTION - do I do this (below) 40 times, or do I use the UHF and the zip code documents?\n",
    "\n",
    "#UFH101 - Kingsbridge, Riverdale. Lat: 40.8940853, Long: -73.910997\n",
    "#UFH102 - Northeast Bronx. Lat: 40.8447819, Long: -73.8648268\n",
    "#UFH103 - \n",
    "\n"
   ]
  },
  {
   "cell_type": "code",
   "execution_count": null,
   "metadata": {},
   "outputs": [],
   "source": []
  }
 ],
 "metadata": {
  "kernelspec": {
   "display_name": "Python 3",
   "language": "python",
   "name": "python3"
  },
  "language_info": {
   "codemirror_mode": {
    "name": "ipython",
    "version": 3
   },
   "file_extension": ".py",
   "mimetype": "text/x-python",
   "name": "python",
   "nbconvert_exporter": "python",
   "pygments_lexer": "ipython3",
   "version": "3.7.0"
  }
 },
 "nbformat": 4,
 "nbformat_minor": 2
}
